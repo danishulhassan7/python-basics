{
 "cells": [
  {
   "cell_type": "markdown",
   "metadata": {},
   "source": [
    "# Python Basic Concepts \n",
    "## Getting Started With Python"
   ]
  },
  {
   "cell_type": "markdown",
   "metadata": {},
   "source": [
    "# Variables "
   ]
  },
  {
   "cell_type": "code",
   "execution_count": 2,
   "metadata": {},
   "outputs": [],
   "source": [
    "# Pyhton is dynamic language "
   ]
  },
  {
   "cell_type": "code",
   "execution_count": 3,
   "metadata": {},
   "outputs": [
    {
     "name": "stdout",
     "output_type": "stream",
     "text": [
      "The Value of z is 10\n"
     ]
    }
   ],
   "source": [
    "z = 10 \n",
    "print(\"The Value of z is\", z)"
   ]
  },
  {
   "cell_type": "code",
   "execution_count": 4,
   "metadata": {},
   "outputs": [
    {
     "data": {
      "text/plain": [
       "int"
      ]
     },
     "execution_count": 4,
     "metadata": {},
     "output_type": "execute_result"
    }
   ],
   "source": [
    "type(z)"
   ]
  },
  {
   "cell_type": "code",
   "execution_count": 6,
   "metadata": {},
   "outputs": [
    {
     "name": "stdout",
     "output_type": "stream",
     "text": [
      "Python is a Programming Language\n"
     ]
    },
    {
     "data": {
      "text/plain": [
       "str"
      ]
     },
     "execution_count": 6,
     "metadata": {},
     "output_type": "execute_result"
    }
   ],
   "source": [
    "y = \"Python is a Programming Language\"\n",
    "print(y)\n",
    "type(y)"
   ]
  },
  {
   "cell_type": "markdown",
   "metadata": {},
   "source": [
    "# Primitive Data Types\n",
    "\n",
    "1. int\n",
    "2. float\n",
    "3. string\n",
    "4. bool\n"
   ]
  },
  {
   "cell_type": "code",
   "execution_count": 7,
   "metadata": {},
   "outputs": [
    {
     "name": "stdout",
     "output_type": "stream",
     "text": [
      "5.098\n"
     ]
    },
    {
     "data": {
      "text/plain": [
       "float"
      ]
     },
     "execution_count": 7,
     "metadata": {},
     "output_type": "execute_result"
    }
   ],
   "source": [
    "x = 5.098\n",
    "print(x)\n",
    "type(x)"
   ]
  },
  {
   "cell_type": "code",
   "execution_count": 8,
   "metadata": {},
   "outputs": [
    {
     "name": "stdout",
     "output_type": "stream",
     "text": [
      "5.098\n"
     ]
    },
    {
     "data": {
      "text/plain": [
       "int"
      ]
     },
     "execution_count": 8,
     "metadata": {},
     "output_type": "execute_result"
    }
   ],
   "source": [
    "x = 5.098\n",
    "print(x)\n",
    "type(int(x))"
   ]
  },
  {
   "cell_type": "code",
   "execution_count": 9,
   "metadata": {},
   "outputs": [
    {
     "name": "stdout",
     "output_type": "stream",
     "text": [
      "7643529\n"
     ]
    },
    {
     "data": {
      "text/plain": [
       "str"
      ]
     },
     "execution_count": 9,
     "metadata": {},
     "output_type": "execute_result"
    }
   ],
   "source": [
    "j = \"7643529\"\n",
    "print(j)\n",
    "type(j)"
   ]
  },
  {
   "cell_type": "code",
   "execution_count": 10,
   "metadata": {},
   "outputs": [
    {
     "name": "stdout",
     "output_type": "stream",
     "text": [
      "7643529\n"
     ]
    },
    {
     "data": {
      "text/plain": [
       "int"
      ]
     },
     "execution_count": 10,
     "metadata": {},
     "output_type": "execute_result"
    }
   ],
   "source": [
    "j = \"7643529\"\n",
    "print(j)\n",
    "type(int(j))"
   ]
  },
  {
   "cell_type": "code",
   "execution_count": 12,
   "metadata": {},
   "outputs": [
    {
     "name": "stdout",
     "output_type": "stream",
     "text": [
      "True\n",
      "False\n",
      "True\n",
      "False\n",
      "False\n"
     ]
    }
   ],
   "source": [
    "m = bool(1)\n",
    "n = bool(0)\n",
    "o = bool(True)\n",
    "p = bool(False)\n",
    "q = bool(None)\n",
    "print(m)\n",
    "print(n)\n",
    "print(o)\n",
    "print(p)\n",
    "print(q)"
   ]
  },
  {
   "cell_type": "markdown",
   "metadata": {},
   "source": [
    "# Gloabal V Local Scope\n",
    "\n",
    "#### We can not directly mutate the global scope variable, but we can change the value of global variable by re-assigning it. But it only change change in local scope, the global scope variable hold its previous value.\n",
    "\n",
    "\n"
   ]
  },
  {
   "cell_type": "code",
   "execution_count": 13,
   "metadata": {},
   "outputs": [
    {
     "name": "stdout",
     "output_type": "stream",
     "text": [
      "7\n",
      "8\n",
      "7\n"
     ]
    }
   ],
   "source": [
    "a = 7\n",
    "print(a)\n",
    "def my_func():\n",
    "    a = 8\n",
    "    print(a)\n",
    "\n",
    "my_func()\n",
    "print(a)"
   ]
  },
  {
   "cell_type": "code",
   "execution_count": 15,
   "metadata": {},
   "outputs": [],
   "source": [
    "# Now changing the value globally"
   ]
  },
  {
   "cell_type": "code",
   "execution_count": 16,
   "metadata": {},
   "outputs": [
    {
     "name": "stdout",
     "output_type": "stream",
     "text": [
      "20\n",
      "30\n",
      "30\n"
     ]
    }
   ],
   "source": [
    "b = 20\n",
    "print(b)\n",
    "\n",
    "def your_func():\n",
    "    global b\n",
    "    b = 30\n",
    "    print(b)\n",
    "your_func()\n",
    "print(b)"
   ]
  },
  {
   "cell_type": "markdown",
   "metadata": {},
   "source": [
    "# Printing in Python and String formating"
   ]
  },
  {
   "cell_type": "code",
   "execution_count": 23,
   "metadata": {},
   "outputs": [
    {
     "name": "stdout",
     "output_type": "stream",
     "text": [
      "Python\n",
      "8\n",
      "The sum is 500\n",
      "Python Programming\n",
      "We are living in the year of '2020'\n",
      "We are living in the year of \"2021\"\n",
      "Lorem ipsum, or lipsum as it is sometimes known, is dummy text used in laying out print, graphic or web designs. The passage is attributed to an unknown typesetter in the 15th century who is thought to have scrambled parts of Cicero's De Finibus Bonorum et Malorum for use in a type specimen book.\n"
     ]
    }
   ],
   "source": [
    "sum = 500\n",
    "print(\"Python\")\n",
    "print(2+6)\n",
    "print(\"The sum is\",sum)\n",
    "print(\"Python \" + \"Programming\")\n",
    "print(\"We are living in the year of '2020'\")\n",
    "print('We are living in the year of \"2021\"')\n",
    "\n",
    "#Triple quotation (it prints text with all the spaces and new lines)\n",
    "\n",
    "print('''Lorem ipsum, or lipsum as it is sometimes known, is dummy text used in laying out print, graphic or web designs. The passage is attributed to an unknown typesetter in the 15th century who is thought to have scrambled parts of Cicero's De Finibus Bonorum et Malorum for use in a type specimen book.''')\n"
   ]
  },
  {
   "cell_type": "code",
   "execution_count": 19,
   "metadata": {},
   "outputs": [
    {
     "name": "stdout",
     "output_type": "stream",
     "text": [
      "The values are: R= 40 S = 50 and T = 60\n"
     ]
    }
   ],
   "source": [
    "#Formatting\n",
    "r = 40\n",
    "s = 50\n",
    "t = 60\n",
    "print(\"The values are: R= {} S = {} and T = {}\".format(r,s,t))"
   ]
  },
  {
   "cell_type": "code",
   "execution_count": 24,
   "metadata": {},
   "outputs": [
    {
     "name": "stdout",
     "output_type": "stream",
     "text": [
      "The values are: R= 60 S = 50 and T = 40\n"
     ]
    }
   ],
   "source": [
    "#indexing\n",
    "r = 40\n",
    "s = 50\n",
    "t = 60\n",
    "print(\"The values are: R= {2} S = {1} and T = {0}\".format(r,s,t))"
   ]
  },
  {
   "cell_type": "code",
   "execution_count": 27,
   "metadata": {},
   "outputs": [
    {
     "name": "stdout",
     "output_type": "stream",
     "text": [
      "The values are: R= 40 S = 50 and T = 60\n"
     ]
    }
   ],
   "source": [
    "# alternative of formatting (preferred way)\n",
    "\n",
    "r = 40\n",
    "s = 50\n",
    "t = 60\n",
    "print(f\"The values are: R= {r} S = {s} and T = {t}\")"
   ]
  },
  {
   "cell_type": "markdown",
   "metadata": {},
   "source": [
    "# Input in Python "
   ]
  },
  {
   "cell_type": "code",
   "execution_count": null,
   "metadata": {},
   "outputs": [],
   "source": [
    "g = input(\"Type your name:\")\n",
    "print(f\"Your name is: {g}\")\n",
    "type(g)\n",
    "# Ptython takes input as string (by default)"
   ]
  },
  {
   "cell_type": "code",
   "execution_count": null,
   "metadata": {},
   "outputs": [],
   "source": [
    "print(\"Addition\")\n",
    "e = input(\"Enter first number\");\n",
    "f = input(\"Enter second Number\");\n",
    "res = e+f\n",
    "print(f\"The sum is: {sum}\")\n",
    "type(e,f,res)"
   ]
  }
 ],
 "metadata": {
  "kernelspec": {
   "display_name": "Python 3",
   "language": "python",
   "name": "python3"
  },
  "language_info": {
   "codemirror_mode": {
    "name": "ipython",
    "version": 3
   },
   "file_extension": ".py",
   "mimetype": "text/x-python",
   "name": "python",
   "nbconvert_exporter": "python",
   "pygments_lexer": "ipython3",
   "version": "3.9.1"
  }
 },
 "nbformat": 4,
 "nbformat_minor": 4
}
